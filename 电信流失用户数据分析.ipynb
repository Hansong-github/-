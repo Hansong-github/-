{
 "cells": [
  {
   "cell_type": "markdown",
   "metadata": {},
   "source": [
    "## 手机客户流失预测"
   ]
  },
  {
   "cell_type": "code",
   "execution_count": 25,
   "metadata": {},
   "outputs": [
    {
     "data": {
      "text/html": [
       "<div>\n",
       "<style scoped>\n",
       "    .dataframe tbody tr th:only-of-type {\n",
       "        vertical-align: middle;\n",
       "    }\n",
       "\n",
       "    .dataframe tbody tr th {\n",
       "        vertical-align: top;\n",
       "    }\n",
       "\n",
       "    .dataframe thead th {\n",
       "        text-align: right;\n",
       "    }\n",
       "</style>\n",
       "<table border=\"1\" class=\"dataframe\">\n",
       "  <thead>\n",
       "    <tr style=\"text-align: right;\">\n",
       "      <th></th>\n",
       "      <th>ID</th>\n",
       "      <th>套餐金额</th>\n",
       "      <th>额外通话时长</th>\n",
       "      <th>额外流量</th>\n",
       "      <th>改变行为</th>\n",
       "      <th>服务合约</th>\n",
       "      <th>关联购买</th>\n",
       "      <th>集团用户</th>\n",
       "      <th>使用月数</th>\n",
       "      <th>流失用户</th>\n",
       "    </tr>\n",
       "  </thead>\n",
       "  <tbody>\n",
       "    <tr>\n",
       "      <th>0</th>\n",
       "      <td>1</td>\n",
       "      <td>1</td>\n",
       "      <td>792.833333</td>\n",
       "      <td>-10.450067</td>\n",
       "      <td>0</td>\n",
       "      <td>0</td>\n",
       "      <td>0</td>\n",
       "      <td>0</td>\n",
       "      <td>25</td>\n",
       "      <td>0</td>\n",
       "    </tr>\n",
       "    <tr>\n",
       "      <th>1</th>\n",
       "      <td>2</td>\n",
       "      <td>1</td>\n",
       "      <td>121.666667</td>\n",
       "      <td>-21.141117</td>\n",
       "      <td>0</td>\n",
       "      <td>0</td>\n",
       "      <td>0</td>\n",
       "      <td>0</td>\n",
       "      <td>25</td>\n",
       "      <td>0</td>\n",
       "    </tr>\n",
       "    <tr>\n",
       "      <th>2</th>\n",
       "      <td>3</td>\n",
       "      <td>1</td>\n",
       "      <td>-30.000000</td>\n",
       "      <td>-25.655273</td>\n",
       "      <td>0</td>\n",
       "      <td>0</td>\n",
       "      <td>0</td>\n",
       "      <td>0</td>\n",
       "      <td>2</td>\n",
       "      <td>1</td>\n",
       "    </tr>\n",
       "    <tr>\n",
       "      <th>3</th>\n",
       "      <td>4</td>\n",
       "      <td>1</td>\n",
       "      <td>241.500000</td>\n",
       "      <td>-288.341254</td>\n",
       "      <td>0</td>\n",
       "      <td>1</td>\n",
       "      <td>0</td>\n",
       "      <td>1</td>\n",
       "      <td>25</td>\n",
       "      <td>0</td>\n",
       "    </tr>\n",
       "    <tr>\n",
       "      <th>4</th>\n",
       "      <td>5</td>\n",
       "      <td>1</td>\n",
       "      <td>1629.666667</td>\n",
       "      <td>-23.655505</td>\n",
       "      <td>0</td>\n",
       "      <td>0</td>\n",
       "      <td>0</td>\n",
       "      <td>1</td>\n",
       "      <td>25</td>\n",
       "      <td>0</td>\n",
       "    </tr>\n",
       "  </tbody>\n",
       "</table>\n",
       "</div>"
      ],
      "text/plain": [
       "   ID  套餐金额       额外通话时长        额外流量  改变行为  服务合约  关联购买  集团用户  使用月数  流失用户\n",
       "0   1     1   792.833333  -10.450067     0     0     0     0    25     0\n",
       "1   2     1   121.666667  -21.141117     0     0     0     0    25     0\n",
       "2   3     1   -30.000000  -25.655273     0     0     0     0     2     1\n",
       "3   4     1   241.500000 -288.341254     0     1     0     1    25     0\n",
       "4   5     1  1629.666667  -23.655505     0     0     0     1    25     0"
      ]
     },
     "execution_count": 25,
     "metadata": {},
     "output_type": "execute_result"
    }
   ],
   "source": [
    "# 导入分析用到的模块\n",
    "import numpy as np\n",
    "import pandas as pd\n",
    "import matplotlib.pyplot as plt\n",
    "%matplotlib inline\n",
    "# %matplotlib inline 可以在Ipython编译器里直接使用，功能是可以内嵌绘图，并且可以省略掉plt.show()这一步。 \n",
    "plt.style.use('ggplot')\n",
    "import seaborn as sns\n",
    "sns.set_style('darkgrid')\n",
    "sns.set_palette('muted')\n",
    "# 导入csv文件\n",
    "df = pd.read_excel('CustomerSurvival.xlsx',encoding='utf-8')\n",
    "df.head()"
   ]
  },
  {
   "cell_type": "code",
   "execution_count": 26,
   "metadata": {},
   "outputs": [
    {
     "name": "stdout",
     "output_type": "stream",
     "text": [
      "<class 'pandas.core.frame.DataFrame'>\n",
      "RangeIndex: 4975 entries, 0 to 4974\n",
      "Data columns (total 10 columns):\n",
      "ID        4975 non-null int64\n",
      "套餐金额      4975 non-null int64\n",
      "额外通话时长    4975 non-null float64\n",
      "额外流量      4975 non-null float64\n",
      "改变行为      4975 non-null int64\n",
      "服务合约      4975 non-null int64\n",
      "关联购买      4975 non-null int64\n",
      "集团用户      4975 non-null int64\n",
      "使用月数      4975 non-null int64\n",
      "流失用户      4975 non-null int64\n",
      "dtypes: float64(2), int64(8)\n",
      "memory usage: 388.8 KB\n"
     ]
    }
   ],
   "source": [
    "df.info()"
   ]
  },
  {
   "cell_type": "code",
   "execution_count": 27,
   "metadata": {},
   "outputs": [
    {
     "name": "stdout",
     "output_type": "stream",
     "text": [
      "<class 'pandas.core.frame.DataFrame'>\n",
      "RangeIndex: 4975 entries, 0 to 4974\n",
      "Data columns (total 10 columns):\n",
      "id             4975 non-null int64\n",
      "pack_type      4975 non-null int64\n",
      "extra_time     4975 non-null float64\n",
      "extra_flow     4975 non-null float64\n",
      "pack_change    4975 non-null int64\n",
      "contract       4975 non-null int64\n",
      "asso_pur       4975 non-null int64\n",
      "group_user     4975 non-null int64\n",
      "use_month      4975 non-null int64\n",
      "loss           4975 non-null int64\n",
      "dtypes: float64(2), int64(8)\n",
      "memory usage: 388.8 KB\n"
     ]
    }
   ],
   "source": [
    "df.columns = ['id','pack_type','extra_time','extra_flow','pack_change',\n",
    "             'contract','asso_pur','group_user','use_month','loss']\n",
    "df.info()"
   ]
  },
  {
   "cell_type": "markdown",
   "metadata": {},
   "source": [
    "id -- 用户的唯一标识<br>\n",
    "pack_type -- 用户的月套餐的金额，1为96元以下，2为96到225元，3为225元以上<br>\n",
    "extra_time -- 用户在使用期间的每月额外通话时长，这部分需要用户额外交费。数值是每月的额外通话时长的平均值,单位：分钟<br>\n",
    "extra_flow -- 用户在使用期间的每月额外流量，这部分需要用户额外交费。数值是每月的额外流量的平均值，单位：兆<br>\n",
    "pack_change -- 是否曾经改变过套餐金额，1=是，0=否<br>\n",
    "contract -- 用户是否与联通签订过服务合约，1=是，0=否<br>\n",
    "asso_pur -- 用户在使用联通移动服务过程中是否还同时办理其他业务，1=同时办理一项其他业务，2=同时办理两项其他业务，0=没有办理其他业务<br>\n",
    "group_use -- 用户办理的是否是集团业务，相比个人业务，集体办理的号码在集团内拨打有一定优惠。1=是，0=否<br>\n",
    "use_month -- 截止到观测期结束（2012.1-2014.1），用户使用联通服务的时间长短，单位：月<br>\n",
    "loss -- 在25个月的观测期内，用户是否已经流失。1=是，0=否<br>"
   ]
  },
  {
   "cell_type": "markdown",
   "metadata": {},
   "source": [
    "### 【数据的探索性分析】"
   ]
  },
  {
   "cell_type": "code",
   "execution_count": 28,
   "metadata": {},
   "outputs": [
    {
     "data": {
      "text/html": [
       "<div>\n",
       "<style scoped>\n",
       "    .dataframe tbody tr th:only-of-type {\n",
       "        vertical-align: middle;\n",
       "    }\n",
       "\n",
       "    .dataframe tbody tr th {\n",
       "        vertical-align: top;\n",
       "    }\n",
       "\n",
       "    .dataframe thead th {\n",
       "        text-align: right;\n",
       "    }\n",
       "</style>\n",
       "<table border=\"1\" class=\"dataframe\">\n",
       "  <thead>\n",
       "    <tr style=\"text-align: right;\">\n",
       "      <th></th>\n",
       "      <th>id</th>\n",
       "      <th>pack_type</th>\n",
       "      <th>extra_time</th>\n",
       "      <th>extra_flow</th>\n",
       "      <th>pack_change</th>\n",
       "      <th>contract</th>\n",
       "      <th>asso_pur</th>\n",
       "      <th>group_user</th>\n",
       "      <th>use_month</th>\n",
       "      <th>loss</th>\n",
       "    </tr>\n",
       "  </thead>\n",
       "  <tbody>\n",
       "    <tr>\n",
       "      <th>count</th>\n",
       "      <td>4975.000000</td>\n",
       "      <td>4975.000000</td>\n",
       "      <td>4975.000000</td>\n",
       "      <td>4975.000000</td>\n",
       "      <td>4975.000000</td>\n",
       "      <td>4975.000000</td>\n",
       "      <td>4975.000000</td>\n",
       "      <td>4975.000000</td>\n",
       "      <td>4975.000000</td>\n",
       "      <td>4975.000000</td>\n",
       "    </tr>\n",
       "    <tr>\n",
       "      <th>mean</th>\n",
       "      <td>2488.000000</td>\n",
       "      <td>1.057688</td>\n",
       "      <td>258.520030</td>\n",
       "      <td>-71.580403</td>\n",
       "      <td>0.021307</td>\n",
       "      <td>0.245226</td>\n",
       "      <td>0.047437</td>\n",
       "      <td>0.227337</td>\n",
       "      <td>14.774271</td>\n",
       "      <td>0.782714</td>\n",
       "    </tr>\n",
       "    <tr>\n",
       "      <th>std</th>\n",
       "      <td>1436.303125</td>\n",
       "      <td>0.258527</td>\n",
       "      <td>723.057190</td>\n",
       "      <td>275.557448</td>\n",
       "      <td>0.144419</td>\n",
       "      <td>0.430264</td>\n",
       "      <td>0.278143</td>\n",
       "      <td>0.419154</td>\n",
       "      <td>6.534273</td>\n",
       "      <td>0.412441</td>\n",
       "    </tr>\n",
       "    <tr>\n",
       "      <th>min</th>\n",
       "      <td>1.000000</td>\n",
       "      <td>1.000000</td>\n",
       "      <td>-2828.333333</td>\n",
       "      <td>-2189.875986</td>\n",
       "      <td>0.000000</td>\n",
       "      <td>0.000000</td>\n",
       "      <td>0.000000</td>\n",
       "      <td>0.000000</td>\n",
       "      <td>1.000000</td>\n",
       "      <td>0.000000</td>\n",
       "    </tr>\n",
       "    <tr>\n",
       "      <th>25%</th>\n",
       "      <td>1244.500000</td>\n",
       "      <td>1.000000</td>\n",
       "      <td>-126.666667</td>\n",
       "      <td>-74.289824</td>\n",
       "      <td>0.000000</td>\n",
       "      <td>0.000000</td>\n",
       "      <td>0.000000</td>\n",
       "      <td>0.000000</td>\n",
       "      <td>13.000000</td>\n",
       "      <td>1.000000</td>\n",
       "    </tr>\n",
       "    <tr>\n",
       "      <th>50%</th>\n",
       "      <td>2488.000000</td>\n",
       "      <td>1.000000</td>\n",
       "      <td>13.500000</td>\n",
       "      <td>-59.652734</td>\n",
       "      <td>0.000000</td>\n",
       "      <td>0.000000</td>\n",
       "      <td>0.000000</td>\n",
       "      <td>0.000000</td>\n",
       "      <td>13.000000</td>\n",
       "      <td>1.000000</td>\n",
       "    </tr>\n",
       "    <tr>\n",
       "      <th>75%</th>\n",
       "      <td>3731.500000</td>\n",
       "      <td>1.000000</td>\n",
       "      <td>338.658333</td>\n",
       "      <td>-25.795045</td>\n",
       "      <td>0.000000</td>\n",
       "      <td>0.000000</td>\n",
       "      <td>0.000000</td>\n",
       "      <td>0.000000</td>\n",
       "      <td>19.000000</td>\n",
       "      <td>1.000000</td>\n",
       "    </tr>\n",
       "    <tr>\n",
       "      <th>max</th>\n",
       "      <td>4975.000000</td>\n",
       "      <td>3.000000</td>\n",
       "      <td>4314.000000</td>\n",
       "      <td>2568.704293</td>\n",
       "      <td>1.000000</td>\n",
       "      <td>1.000000</td>\n",
       "      <td>2.000000</td>\n",
       "      <td>1.000000</td>\n",
       "      <td>25.000000</td>\n",
       "      <td>1.000000</td>\n",
       "    </tr>\n",
       "  </tbody>\n",
       "</table>\n",
       "</div>"
      ],
      "text/plain": [
       "                id    pack_type   extra_time   extra_flow  pack_change  \\\n",
       "count  4975.000000  4975.000000  4975.000000  4975.000000  4975.000000   \n",
       "mean   2488.000000     1.057688   258.520030   -71.580403     0.021307   \n",
       "std    1436.303125     0.258527   723.057190   275.557448     0.144419   \n",
       "min       1.000000     1.000000 -2828.333333 -2189.875986     0.000000   \n",
       "25%    1244.500000     1.000000  -126.666667   -74.289824     0.000000   \n",
       "50%    2488.000000     1.000000    13.500000   -59.652734     0.000000   \n",
       "75%    3731.500000     1.000000   338.658333   -25.795045     0.000000   \n",
       "max    4975.000000     3.000000  4314.000000  2568.704293     1.000000   \n",
       "\n",
       "          contract     asso_pur   group_user    use_month         loss  \n",
       "count  4975.000000  4975.000000  4975.000000  4975.000000  4975.000000  \n",
       "mean      0.245226     0.047437     0.227337    14.774271     0.782714  \n",
       "std       0.430264     0.278143     0.419154     6.534273     0.412441  \n",
       "min       0.000000     0.000000     0.000000     1.000000     0.000000  \n",
       "25%       0.000000     0.000000     0.000000    13.000000     1.000000  \n",
       "50%       0.000000     0.000000     0.000000    13.000000     1.000000  \n",
       "75%       0.000000     0.000000     0.000000    19.000000     1.000000  \n",
       "max       1.000000     2.000000     1.000000    25.000000     1.000000  "
      ]
     },
     "execution_count": 28,
     "metadata": {},
     "output_type": "execute_result"
    }
   ],
   "source": [
    "df.describe()"
   ]
  },
  {
   "cell_type": "markdown",
   "metadata": {},
   "source": [
    "可以看到extra_time和extra_flow有正负值，正数表示用户有额外的通话时长和流量，负数为用户在月底时剩余的套餐时长和流量。从四分位数中可看出超过一半的用户有额外通话时间，流量的话只有小部分用户超额使用了。另外其他的分类型变量在描述统计上并未发现有异常的地方。<br>\n",
    "<br>\n",
    "在这里特别注意下use_month这个变量，数据的观测区间为2012.1-2014.1，一共25个月，且案例中关于流失的定义为：\n",
    "<br>\n",
    "超过一个月没有使用行为（包括通话，使用流量）的用户判定为流失。\n",
    "<br>\n",
    "在数据集中use_month小于25个月的基本都是流失状态，所以这个变量对于流失的预测并没有什么关键作用，后续导入模型时需剔除这个变量。"
   ]
  },
  {
   "cell_type": "markdown",
   "metadata": {},
   "source": [
    "### 2. 变量的分布"
   ]
  },
  {
   "cell_type": "code",
   "execution_count": 29,
   "metadata": {},
   "outputs": [
    {
     "data": {
      "text/plain": [
       "<matplotlib.axes._subplots.AxesSubplot at 0x1dc328aef28>"
      ]
     },
     "execution_count": 29,
     "metadata": {},
     "output_type": "execute_result"
    },
    {
     "data": {
      "image/png": "[encoded data removed]",
      "text/plain": [
       "<Figure size 720x360 with 2 Axes>"
      ]
     },
     "metadata": {},
     "output_type": "display_data"
    }
   ],
   "source": [
    "# 首先看一下两个连续型变量：extra_time和extra_flow的数据分布：\n",
    "plt.figure(figsize = (10,5))\n",
    "plt.subplot(121)\n",
    "df.extra_time.hist(bins = 30)\n",
    "plt.subplot(122)\n",
    "df.extra_flow.hist(bins = 30)"
   ]
  },
  {
   "cell_type": "markdown",
   "metadata": {},
   "source": [
    "extra_time呈现的是右偏分布，extra_flow近似服从正态分布，与描述统计中的情况大致吻合"
   ]
  },
  {
   "cell_type": "code",
   "execution_count": 30,
   "metadata": {},
   "outputs": [
    {
     "data": {
      "text/plain": [
       "<matplotlib.axes._subplots.AxesSubplot at 0x1dc32bf49e8>"
      ]
     },
     "execution_count": 30,
     "metadata": {},
     "output_type": "execute_result"
    },
    {
     "data": {
      "image/png": "[encoded data removed]",
      "text/plain": [
       "<Figure size 720x432 with 6 Axes>"
      ]
     },
     "metadata": {},
     "output_type": "display_data"
    }
   ],
   "source": [
    "# 接下来看看分类型变量的分布：\n",
    "# 以bar的形式展示每个类别的数量\n",
    "# 金额  是否曾经改变过套餐金额    用户是否与联通签订过服务合约  \n",
    "# 用户在使用联通移动服务过程中是否还同时办理其他业务   用户办理的是否是集团业务   流失\n",
    "fig,axes = plt.subplots(nrows = 2,ncols = 3, figsize = (10,6))\n",
    "sns.countplot(x = 'pack_type',data = df,ax=axes[0,0])\n",
    "sns.countplot(x = 'pack_change',data = df,ax=axes[0,1])\n",
    "sns.countplot(x = 'contract',data = df,ax=axes[0,2])\n",
    "sns.countplot(x = 'asso_pur',data = df,ax=axes[1,0])\n",
    "sns.countplot(x = 'group_user',data = df,ax=axes[1,1])\n",
    "sns.countplot(x = 'loss',data = df,ax=axes[1,2])"
   ]
  },
  {
   "cell_type": "markdown",
   "metadata": {},
   "source": [
    "可以看到pack_type, pack_change, asso_pur的类型分布非常不均衡，例如asso_pur,办理过套餐外业务的用户数量极少，导致样本缺乏足够的代表性，可能会对模型的最终结果产生一定的影响。"
   ]
  },
  {
   "cell_type": "markdown",
   "metadata": {},
   "source": [
    "### 3. 自变量与因变量之间的关系："
   ]
  },
  {
   "cell_type": "code",
   "execution_count": 31,
   "metadata": {},
   "outputs": [
    {
     "data": {
      "text/plain": [
       "<matplotlib.axes._subplots.AxesSubplot at 0x1dc32c70eb8>"
      ]
     },
     "execution_count": 31,
     "metadata": {},
     "output_type": "execute_result"
    },
    {
     "data": {
      "text/plain": [
       "<Figure size 720x432 with 0 Axes>"
      ]
     },
     "metadata": {},
     "output_type": "display_data"
    },
    {
     "data": {
      "image/png": "[encoded data removed]",
      "text/plain": [
       "<Figure size 432x288 with 1 Axes>"
      ]
     },
     "metadata": {},
     "output_type": "display_data"
    },
    {
     "data": {
      "image/png": "[encoded data removed]",
      "text/plain": [
       "<Figure size 432x288 with 1 Axes>"
      ]
     },
     "metadata": {},
     "output_type": "display_data"
    }
   ],
   "source": [
    "# 对于extra_time和extra_flow绘制散点图观察：\n",
    "plt.figure(figsize = (10,6))\n",
    "df.plot.scatter(x='extra_time',y='loss')\n",
    "df.plot.scatter(x='extra_flow',y='loss')"
   ]
  },
  {
   "cell_type": "markdown",
   "metadata": {},
   "source": [
    "从散点图上似乎感觉两个自变量与是否流失并无关系，为了更好的展示其相关性，我们对extra_time和extra_flow进行分箱处理，再绘制条形图："
   ]
  },
  {
   "cell_type": "code",
   "execution_count": 32,
   "metadata": {},
   "outputs": [
    {
     "data": {
      "text/html": [
       "<div>\n",
       "<style scoped>\n",
       "    .dataframe tbody tr th:only-of-type {\n",
       "        vertical-align: middle;\n",
       "    }\n",
       "\n",
       "    .dataframe tbody tr th {\n",
       "        vertical-align: top;\n",
       "    }\n",
       "\n",
       "    .dataframe thead th {\n",
       "        text-align: right;\n",
       "    }\n",
       "</style>\n",
       "<table border=\"1\" class=\"dataframe\">\n",
       "  <thead>\n",
       "    <tr style=\"text-align: right;\">\n",
       "      <th></th>\n",
       "      <th>time_label</th>\n",
       "      <th>id</th>\n",
       "      <th>amount_cumsum</th>\n",
       "    </tr>\n",
       "  </thead>\n",
       "  <tbody>\n",
       "    <tr>\n",
       "      <th>0</th>\n",
       "      <td>(-3000, -2000]</td>\n",
       "      <td>3</td>\n",
       "      <td>3</td>\n",
       "    </tr>\n",
       "    <tr>\n",
       "      <th>1</th>\n",
       "      <td>(-2000, -500]</td>\n",
       "      <td>15</td>\n",
       "      <td>18</td>\n",
       "    </tr>\n",
       "    <tr>\n",
       "      <th>2</th>\n",
       "      <td>(3000, 5000]</td>\n",
       "      <td>79</td>\n",
       "      <td>97</td>\n",
       "    </tr>\n",
       "    <tr>\n",
       "      <th>3</th>\n",
       "      <td>(2000, 3000]</td>\n",
       "      <td>129</td>\n",
       "      <td>226</td>\n",
       "    </tr>\n",
       "    <tr>\n",
       "      <th>4</th>\n",
       "      <td>(500, 2000]</td>\n",
       "      <td>755</td>\n",
       "      <td>981</td>\n",
       "    </tr>\n",
       "    <tr>\n",
       "      <th>5</th>\n",
       "      <td>(0, 500]</td>\n",
       "      <td>1634</td>\n",
       "      <td>2615</td>\n",
       "    </tr>\n",
       "    <tr>\n",
       "      <th>6</th>\n",
       "      <td>(-500, 0]</td>\n",
       "      <td>2360</td>\n",
       "      <td>4975</td>\n",
       "    </tr>\n",
       "  </tbody>\n",
       "</table>\n",
       "</div>"
      ],
      "text/plain": [
       "       time_label    id  amount_cumsum\n",
       "0  (-3000, -2000]     3              3\n",
       "1   (-2000, -500]    15             18\n",
       "2    (3000, 5000]    79             97\n",
       "3    (2000, 3000]   129            226\n",
       "4     (500, 2000]   755            981\n",
       "5        (0, 500]  1634           2615\n",
       "6       (-500, 0]  2360           4975"
      ]
     },
     "execution_count": 32,
     "metadata": {},
     "output_type": "execute_result"
    }
   ],
   "source": [
    "# 增加分箱后的两个字段\n",
    "# 将连续性数据离散化\n",
    "bin1 = [-3000,-2000,-500,0,500,2000,3000,5000]\n",
    "df['time_label'] = pd.cut(df.extra_time,bins = bin1)\n",
    "# 观察一下分箱后的数据分布\n",
    "time_amount = df.groupby('time_label').id.count().sort_values().reset_index()\n",
    "time_amount\n",
    "time_amount['amount_cumsum'] = time_amount.id.cumsum()\n",
    "time_amount\n"
   ]
  },
  {
   "cell_type": "code",
   "execution_count": 33,
   "metadata": {},
   "outputs": [
    {
     "data": {
      "text/plain": [
       "<matplotlib.axes._subplots.AxesSubplot at 0x1dc32cbb320>"
      ]
     },
     "execution_count": 33,
     "metadata": {},
     "output_type": "execute_result"
    },
    {
     "data": {
      "image/png": "[encoded data removed]",
      "text/plain": [
       "<Figure size 432x288 with 1 Axes>"
      ]
     },
     "metadata": {},
     "output_type": "display_data"
    }
   ],
   "source": [
    "sns.countplot(x = 'time_label',hue = 'loss',data =df)\n",
    "# ---对extra_time进行累加统计，发现【-500,500】这个区间的用户占了80%，符合二八定律\n",
    "# hue可以返回每一个区间的loss"
   ]
  },
  {
   "cell_type": "code",
   "execution_count": 34,
   "metadata": {},
   "outputs": [
    {
     "data": {
      "text/html": [
       "<div>\n",
       "<style scoped>\n",
       "    .dataframe tbody tr th:only-of-type {\n",
       "        vertical-align: middle;\n",
       "    }\n",
       "\n",
       "    .dataframe tbody tr th {\n",
       "        vertical-align: top;\n",
       "    }\n",
       "\n",
       "    .dataframe thead th {\n",
       "        text-align: right;\n",
       "    }\n",
       "</style>\n",
       "<table border=\"1\" class=\"dataframe\">\n",
       "  <thead>\n",
       "    <tr style=\"text-align: right;\">\n",
       "      <th></th>\n",
       "      <th>flow_label</th>\n",
       "      <th>id</th>\n",
       "      <th>amount_cumsum</th>\n",
       "    </tr>\n",
       "  </thead>\n",
       "  <tbody>\n",
       "    <tr>\n",
       "      <th>0</th>\n",
       "      <td>(2000, 3000]</td>\n",
       "      <td>1</td>\n",
       "      <td>1</td>\n",
       "    </tr>\n",
       "    <tr>\n",
       "      <th>1</th>\n",
       "      <td>(-3000, -2000]</td>\n",
       "      <td>3</td>\n",
       "      <td>4</td>\n",
       "    </tr>\n",
       "    <tr>\n",
       "      <th>2</th>\n",
       "      <td>(500, 2000]</td>\n",
       "      <td>79</td>\n",
       "      <td>83</td>\n",
       "    </tr>\n",
       "    <tr>\n",
       "      <th>3</th>\n",
       "      <td>(-2000, -500]</td>\n",
       "      <td>157</td>\n",
       "      <td>240</td>\n",
       "    </tr>\n",
       "    <tr>\n",
       "      <th>4</th>\n",
       "      <td>(0, 500]</td>\n",
       "      <td>827</td>\n",
       "      <td>1067</td>\n",
       "    </tr>\n",
       "    <tr>\n",
       "      <th>5</th>\n",
       "      <td>(-500, 0]</td>\n",
       "      <td>3908</td>\n",
       "      <td>4975</td>\n",
       "    </tr>\n",
       "  </tbody>\n",
       "</table>\n",
       "</div>"
      ],
      "text/plain": [
       "       flow_label    id  amount_cumsum\n",
       "0    (2000, 3000]     1              1\n",
       "1  (-3000, -2000]     3              4\n",
       "2     (500, 2000]    79             83\n",
       "3   (-2000, -500]   157            240\n",
       "4        (0, 500]   827           1067\n",
       "5       (-500, 0]  3908           4975"
      ]
     },
     "execution_count": 34,
     "metadata": {},
     "output_type": "execute_result"
    }
   ],
   "source": [
    "bin2 = [-3000,-2000,-500,0,500,2000,3000]\n",
    "df['flow_label'] = pd.cut(df.extra_flow,bins = bin2)\n",
    "flow_amount = df.groupby('flow_label').id.count().sort_values().reset_index()\n",
    "flow_amount['amount_cumsum'] = flow_amount.id.cumsum()\n",
    "flow_amount"
   ]
  },
  {
   "cell_type": "markdown",
   "metadata": {},
   "source": [
    "---对extra_flow进行累加统计，发现【-500,500】占了95%，且（-500,0】的用户占80%，可以说只有小部分用户每月会超额使用流量。"
   ]
  },
  {
   "cell_type": "code",
   "execution_count": 35,
   "metadata": {},
   "outputs": [
    {
     "data": {
      "text/plain": [
       "<matplotlib.axes._subplots.AxesSubplot at 0x1dc3271fb00>"
      ]
     },
     "execution_count": 35,
     "metadata": {},
     "output_type": "execute_result"
    },
    {
     "data": {
      "image/png": "[encoded data removed]",
      "text/plain": [
       "<Figure size 432x288 with 1 Axes>"
      ]
     },
     "metadata": {},
     "output_type": "display_data"
    }
   ],
   "source": [
    "sns.countplot(x = 'flow_label',hue = 'loss',data =df)\n",
    "# 使用bars来表示每个分类数据的数目"
   ]
  },
  {
   "cell_type": "markdown",
   "metadata": {},
   "source": [
    "可以明显的看出用户使用的通话时间和流量越多，流失概率越低，这些超额使用的用户在用户分类中属于'高价值用户'，用户粘性很高，运营商应该把重点放在这些用户身上，采取有效的手段预防其流失。"
   ]
  },
  {
   "cell_type": "code",
   "execution_count": 36,
   "metadata": {},
   "outputs": [
    {
     "data": {
      "text/plain": [
       "<matplotlib.axes._subplots.AxesSubplot at 0x1dc32ea0be0>"
      ]
     },
     "execution_count": 36,
     "metadata": {},
     "output_type": "execute_result"
    },
    {
     "data": {
      "image/png": "[encoded data removed]",
      "text/plain": [
       "<Figure size 864x576 with 6 Axes>"
      ]
     },
     "metadata": {},
     "output_type": "display_data"
    }
   ],
   "source": [
    "fig,axes = plt.subplots(nrows = 2,ncols = 3, figsize = (12,8))\n",
    "sns.countplot(x = 'pack_type',hue = 'loss',data =df,ax = axes[0][0])\n",
    "sns.countplot(x = 'pack_change',hue = 'loss',data =df,ax = axes[0][1])\n",
    "sns.countplot(x = 'contract',hue = 'loss',data =df,ax = axes[0][2])\n",
    "sns.countplot(x = 'asso_pur',hue = 'loss',data =df,ax = axes[1][0])\n",
    "sns.countplot(x = 'group_user',hue = 'loss',data =df,ax = axes[1][1])"
   ]
  },
  {
   "cell_type": "markdown",
   "metadata": {},
   "source": [
    "初步得出以下结论：<br>\n",
    "1）.套餐金额越大，用户越不易流失，套餐金额大的用户忠诚度也高<br>\n",
    "2）.改过套餐的用户流失的概率变小<br>\n",
    "3）.签订过合约的流失比例较小，签订合约也意味着一段时间内（比如2年，3年）用户一般都不会更换运营商号码，可以说签订合约的用户比较稳定<br>\n",
    "4）.办理过其它套餐业务的用户因样本量太少，后续再研究<br>\n",
    "5）.集团用户的流失率相比个人用户低很多<br>"
   ]
  },
  {
   "cell_type": "code",
   "execution_count": 37,
   "metadata": {},
   "outputs": [
    {
     "data": {
      "text/plain": [
       "<matplotlib.axes._subplots.AxesSubplot at 0x1dc32ce2e10>"
      ]
     },
     "execution_count": 37,
     "metadata": {},
     "output_type": "execute_result"
    },
    {
     "data": {
      "image/png": "[encoded data removed]",
      "text/plain": [
       "<Figure size 720x504 with 2 Axes>"
      ]
     },
     "metadata": {},
     "output_type": "display_data"
    }
   ],
   "source": [
    "internal_chars = ['extra_time','extra_flow','pack_type',\n",
    "                 'pack_change','contract','asso_pur','group_user','loss']\n",
    "corrmat = df[internal_chars].corr()\n",
    "f, ax = plt.subplots(figsize=(10, 7))\n",
    "plt.xticks(rotation='0')\n",
    "sns.heatmap(corrmat, square=False, linewidths=.5, annot=True)"
   ]
  },
  {
   "cell_type": "markdown",
   "metadata": {},
   "source": [
    "各自变量之间的相关性程度很低，排除了共线性问题。在对因变量的相关性上contract和group_user的系数相比其它变量较高，但也不是很强。"
   ]
  },
  {
   "cell_type": "markdown",
   "metadata": {},
   "source": [
    "### 数据建模"
   ]
  },
  {
   "cell_type": "markdown",
   "metadata": {},
   "source": [
    "因为自变量大多数为分类型，所以用决策树的效果比较好，而且决策树对异常值的敏感度很低，生成的结果也有很好的解释性。\n"
   ]
  },
  {
   "cell_type": "markdown",
   "metadata": {},
   "source": [
    "---因变量是 'loss'，是否流失，也是我们预测的目标值<br>\n",
    "---自变量分为三类：<br>\n",
    "#连续型变量：extra_time，extra_flow,  use_month<br>\n",
    "#二元分类变量：pack_change，contract,  group_use<br>\n",
    "#多元分类变量：pack_type，asso_pur<br>"
   ]
  },
  {
   "cell_type": "markdown",
   "metadata": {},
   "source": [
    "根据前面的探索性分析，并基于业务理解，我们决定筛选这几个特征进入模型：<br>\n",
    "extra_time，extra_flow，pack_type,  pack_change,  asso_pur<br>\n",
    "contract以及group_use，这些特征都对是否流失有一定的影响。<br>\n",
    "对于extra_time，extra_flow这两个连续型变量我们作数据转换，变成二分类变量，这样所有特征都是统一的度量。<br>"
   ]
  },
  {
   "cell_type": "code",
   "execution_count": 38,
   "metadata": {},
   "outputs": [
    {
     "data": {
      "text/html": [
       "<div>\n",
       "<style scoped>\n",
       "    .dataframe tbody tr th:only-of-type {\n",
       "        vertical-align: middle;\n",
       "    }\n",
       "\n",
       "    .dataframe tbody tr th {\n",
       "        vertical-align: top;\n",
       "    }\n",
       "\n",
       "    .dataframe thead th {\n",
       "        text-align: right;\n",
       "    }\n",
       "</style>\n",
       "<table border=\"1\" class=\"dataframe\">\n",
       "  <thead>\n",
       "    <tr style=\"text-align: right;\">\n",
       "      <th></th>\n",
       "      <th>id</th>\n",
       "      <th>pack_type</th>\n",
       "      <th>extra_time</th>\n",
       "      <th>extra_flow</th>\n",
       "      <th>pack_change</th>\n",
       "      <th>contract</th>\n",
       "      <th>asso_pur</th>\n",
       "      <th>group_user</th>\n",
       "      <th>use_month</th>\n",
       "      <th>loss</th>\n",
       "      <th>time_label</th>\n",
       "      <th>flow_label</th>\n",
       "      <th>time_tranf</th>\n",
       "      <th>flow_tranf</th>\n",
       "    </tr>\n",
       "  </thead>\n",
       "  <tbody>\n",
       "    <tr>\n",
       "      <th>0</th>\n",
       "      <td>1</td>\n",
       "      <td>1</td>\n",
       "      <td>792.833333</td>\n",
       "      <td>-10.450067</td>\n",
       "      <td>0</td>\n",
       "      <td>0</td>\n",
       "      <td>0</td>\n",
       "      <td>0</td>\n",
       "      <td>25</td>\n",
       "      <td>0</td>\n",
       "      <td>(500, 2000]</td>\n",
       "      <td>(-500, 0]</td>\n",
       "      <td>1</td>\n",
       "      <td>0</td>\n",
       "    </tr>\n",
       "    <tr>\n",
       "      <th>1</th>\n",
       "      <td>2</td>\n",
       "      <td>1</td>\n",
       "      <td>121.666667</td>\n",
       "      <td>-21.141117</td>\n",
       "      <td>0</td>\n",
       "      <td>0</td>\n",
       "      <td>0</td>\n",
       "      <td>0</td>\n",
       "      <td>25</td>\n",
       "      <td>0</td>\n",
       "      <td>(0, 500]</td>\n",
       "      <td>(-500, 0]</td>\n",
       "      <td>1</td>\n",
       "      <td>0</td>\n",
       "    </tr>\n",
       "    <tr>\n",
       "      <th>2</th>\n",
       "      <td>3</td>\n",
       "      <td>1</td>\n",
       "      <td>-30.000000</td>\n",
       "      <td>-25.655273</td>\n",
       "      <td>0</td>\n",
       "      <td>0</td>\n",
       "      <td>0</td>\n",
       "      <td>0</td>\n",
       "      <td>2</td>\n",
       "      <td>1</td>\n",
       "      <td>(-500, 0]</td>\n",
       "      <td>(-500, 0]</td>\n",
       "      <td>0</td>\n",
       "      <td>0</td>\n",
       "    </tr>\n",
       "    <tr>\n",
       "      <th>3</th>\n",
       "      <td>4</td>\n",
       "      <td>1</td>\n",
       "      <td>241.500000</td>\n",
       "      <td>-288.341254</td>\n",
       "      <td>0</td>\n",
       "      <td>1</td>\n",
       "      <td>0</td>\n",
       "      <td>1</td>\n",
       "      <td>25</td>\n",
       "      <td>0</td>\n",
       "      <td>(0, 500]</td>\n",
       "      <td>(-500, 0]</td>\n",
       "      <td>1</td>\n",
       "      <td>0</td>\n",
       "    </tr>\n",
       "    <tr>\n",
       "      <th>4</th>\n",
       "      <td>5</td>\n",
       "      <td>1</td>\n",
       "      <td>1629.666667</td>\n",
       "      <td>-23.655505</td>\n",
       "      <td>0</td>\n",
       "      <td>0</td>\n",
       "      <td>0</td>\n",
       "      <td>1</td>\n",
       "      <td>25</td>\n",
       "      <td>0</td>\n",
       "      <td>(500, 2000]</td>\n",
       "      <td>(-500, 0]</td>\n",
       "      <td>1</td>\n",
       "      <td>0</td>\n",
       "    </tr>\n",
       "  </tbody>\n",
       "</table>\n",
       "</div>"
      ],
      "text/plain": [
       "   id  pack_type   extra_time  extra_flow  pack_change  contract  asso_pur  \\\n",
       "0   1          1   792.833333  -10.450067            0         0         0   \n",
       "1   2          1   121.666667  -21.141117            0         0         0   \n",
       "2   3          1   -30.000000  -25.655273            0         0         0   \n",
       "3   4          1   241.500000 -288.341254            0         1         0   \n",
       "4   5          1  1629.666667  -23.655505            0         0         0   \n",
       "\n",
       "   group_user  use_month  loss   time_label flow_label  time_tranf  flow_tranf  \n",
       "0           0         25     0  (500, 2000]  (-500, 0]           1           0  \n",
       "1           0         25     0     (0, 500]  (-500, 0]           1           0  \n",
       "2           0          2     1    (-500, 0]  (-500, 0]           0           0  \n",
       "3           1         25     0     (0, 500]  (-500, 0]           1           0  \n",
       "4           1         25     0  (500, 2000]  (-500, 0]           1           0  "
      ]
     },
     "execution_count": 38,
     "metadata": {},
     "output_type": "execute_result"
    }
   ],
   "source": [
    "df['time_tranf'] = df.apply(lambda x:1 if x.extra_time>0 else 0,axis =1)\n",
    "df['flow_tranf'] = df.apply(lambda x:1 if x.extra_flow>0 else 0,axis =1)\n",
    "df.head()\n",
    "# 将没有超出套餐的通话时间和流量记为0，超出的记为1。"
   ]
  },
  {
   "cell_type": "code",
   "execution_count": 39,
   "metadata": {},
   "outputs": [
    {
     "data": {
      "text/plain": [
       "array([[1, 1, 0, ..., 0, 0, 0],\n",
       "       [1, 1, 0, ..., 0, 0, 0],\n",
       "       [1, 0, 0, ..., 0, 0, 0],\n",
       "       ...,\n",
       "       [1, 1, 1, ..., 1, 0, 0],\n",
       "       [1, 1, 1, ..., 1, 0, 0],\n",
       "       [3, 0, 0, ..., 1, 0, 1]], dtype=int64)"
      ]
     },
     "execution_count": 39,
     "metadata": {},
     "output_type": "execute_result"
    }
   ],
   "source": [
    "x = df.loc[:,['pack_type','time_tranf','flow_tranf','pack_change','contract','asso_pur','group_user']]\n",
    "x = np.array(x)\n",
    "x"
   ]
  },
  {
   "cell_type": "code",
   "execution_count": 40,
   "metadata": {},
   "outputs": [
    {
     "data": {
      "text/plain": [
       "array([[0],\n",
       "       [0],\n",
       "       [1],\n",
       "       ...,\n",
       "       [0],\n",
       "       [1],\n",
       "       [0]], dtype=int64)"
      ]
     },
     "execution_count": 40,
     "metadata": {},
     "output_type": "execute_result"
    }
   ],
   "source": [
    "y = df.loss\n",
    "y = y[:, np.newaxis]\n",
    "y"
   ]
  },
  {
   "cell_type": "code",
   "execution_count": 41,
   "metadata": {},
   "outputs": [],
   "source": [
    "from sklearn.model_selection import train_test_split\n",
    "x_train, x_test, y_train, y_test = train_test_split(x, y, test_size = 0.3,random_state=123)"
   ]
  },
  {
   "cell_type": "code",
   "execution_count": 42,
   "metadata": {},
   "outputs": [],
   "source": [
    "from sklearn import tree\n",
    "clf = tree.DecisionTreeClassifier(criterion='gini', #--设置衡量的系数\n",
    "                                    splitter='best', #--选择分类的策略\n",
    "                                    max_depth=4, #--设置树的最大深度\n",
    "                                    min_samples_split=10,#--节点的最少样本数\n",
    "                                    min_samples_leaf=5 #-- 叶节点的最少样本数\n",
    "                                    )\n",
    "clf = clf.fit(x_train,y_train) # -- 拟合训练"
   ]
  },
  {
   "cell_type": "markdown",
   "metadata": {},
   "source": [
    "这里我们采用决策树中ID3算法，基于entropy系数进行分类，设置树的最大深度为4，区分一个内部节点需要的最少的样本数为10，一个叶节点所需要的最小样本数为5。"
   ]
  },
  {
   "cell_type": "code",
   "execution_count": 43,
   "metadata": {},
   "outputs": [
    {
     "data": {
      "text/plain": [
       "'train_score:0.871338311315336,test_score:0.8640321500334897'"
      ]
     },
     "execution_count": 43,
     "metadata": {},
     "output_type": "execute_result"
    }
   ],
   "source": [
    "train_score = clf.score(x_train,y_train) # 训练集的评分\n",
    "test_score = clf.score(x_test,y_test)   # 测试集的评分\n",
    "'train_score:{0},test_score:{1}'.format(train_score,test_score)"
   ]
  },
  {
   "cell_type": "markdown",
   "metadata": {},
   "source": [
    "### 参数调优"
   ]
  },
  {
   "cell_type": "code",
   "execution_count": 44,
   "metadata": {},
   "outputs": [
    {
     "data": {
      "text/plain": [
       "4"
      ]
     },
     "execution_count": 44,
     "metadata": {},
     "output_type": "execute_result"
    }
   ],
   "source": [
    "# 模型的参数调优--max_depth\n",
    "# 创建一个函数，使用不同的深度来训练模型，并计算评分数据\n",
    "def cv_score(d):\n",
    "    clf2 = tree.DecisionTreeClassifier(max_depth=d)\n",
    "    clf2 = clf2.fit(x_train,y_train)\n",
    "    tr_score = clf2.score(x_train,y_train)\n",
    "    cv_score = clf2.score(x_test,y_test)\n",
    "    return (tr_score, cv_score)\n",
    "# 构造参数范围，在这个范围内构造模型并计算评分\n",
    "depths = range(2,15)\n",
    "scores = [cv_score(d) for d in depths]\n",
    "tr_scores = [s[0] for s in scores]\n",
    "cv_scores = [s[1] for s in scores]\n",
    "scores\n",
    "# 找出交叉验证数据集最高评分的那个索引\n",
    "best_score_index = np.argmax(cv_scores)\n",
    "best_score = cv_scores[best_score_index]\n",
    "best_param = depths[best_score_index]\n",
    "best_param\n",
    "# best_score"
   ]
  },
  {
   "cell_type": "code",
   "execution_count": 45,
   "metadata": {},
   "outputs": [
    {
     "data": {
      "text/plain": [
       "<matplotlib.legend.Legend at 0x1dc33054d68>"
      ]
     },
     "execution_count": 45,
     "metadata": {},
     "output_type": "execute_result"
    },
    {
     "data": {
      "image/png": "[encoded data removed]",
      "text/plain": [
       "<Figure size 600x300 with 1 Axes>"
      ]
     },
     "metadata": {},
     "output_type": "display_data"
    }
   ],
   "source": [
    "plt.figure(figsize = (4,2),dpi=150)\n",
    "plt.grid()\n",
    "plt.xlabel('max_depth')\n",
    "plt.ylabel('best_score')\n",
    "plt.plot(depths, cv_scores,'.g-',label = 'cross_validation scores')\n",
    "plt.plot(depths,tr_scores,'.r--',label = 'train scores')\n",
    "plt.legend()"
   ]
  },
  {
   "cell_type": "markdown",
   "metadata": {},
   "source": [
    "在生成的图中可以看出当深度为4时，交叉验证数据集的评分与训练集的评分比较接近，且两者的评分比较高，当深度超过5以后，俩者的差距变大，交叉验证数据集的评分变低，出现了过拟合情况。"
   ]
  },
  {
   "cell_type": "markdown",
   "metadata": {},
   "source": [
    "### 模型结果评价"
   ]
  },
  {
   "cell_type": "code",
   "execution_count": 46,
   "metadata": {},
   "outputs": [
    {
     "name": "stdout",
     "output_type": "stream",
     "text": [
      "              precision    recall  f1-score   support\n",
      "\n",
      "           0       0.65      0.71      0.68       304\n",
      "           1       0.92      0.90      0.91      1189\n",
      "\n",
      "    accuracy                           0.86      1493\n",
      "   macro avg       0.79      0.81      0.80      1493\n",
      "weighted avg       0.87      0.86      0.87      1493\n",
      "\n"
     ]
    }
   ],
   "source": [
    "from sklearn.metrics import classification_report\n",
    "y_pre = clf.predict(x_test)\n",
    "print(classification_report(y_pre,y_test))"
   ]
  },
  {
   "cell_type": "markdown",
   "metadata": {},
   "source": [
    "精确率 = TP/(TP+FP)  ：在预测为流失的用户中，预测正确的（实际也是流失）用户占比<br>\n",
    "召回率 = TP/(TP+FN)   : 在实际为流失的用户中，预测正确的（预测为流失的）用户占比<br>\n",
    "F1值为精确率和召回率的调和均值，相当于这两个的综合评价指标。<br>\n",
    "通过输出的分析报告可以得出建立的预测模型的精确率为0.88，说明在预测为流失的用户中，实际流失的用户占88%，召回率为0.86，说明实际为流失的用户中，预测为流失的占86%，F1值为0.87，说明模型的综合评价还不错。<br>"
   ]
  },
  {
   "cell_type": "code",
   "execution_count": 47,
   "metadata": {},
   "outputs": [],
   "source": [
    "# import os\n",
    "# os.environ[\"PATH\"] += os.pathsep + 'D:\\新建文件夹\\graphviz-2.38\\release\\bin'  #注意修改你的路径"
   ]
  },
  {
   "cell_type": "code",
   "execution_count": 48,
   "metadata": {},
   "outputs": [
    {
     "ename": "ModuleNotFoundError",
     "evalue": "No module named 'pydotplus'",
     "output_type": "error",
     "traceback": [
      "\u001b[1;31m---------------------------------------------------------------------------\u001b[0m",
      "\u001b[1;31mModuleNotFoundError\u001b[0m                       Traceback (most recent call last)",
      "\u001b[1;32m<ipython-input-48-cf0c8388c9be>\u001b[0m in \u001b[0;36m<module>\u001b[1;34m()\u001b[0m\n\u001b[0;32m      3\u001b[0m \u001b[1;32mfrom\u001b[0m \u001b[0mIPython\u001b[0m\u001b[1;33m.\u001b[0m\u001b[0mdisplay\u001b[0m \u001b[1;32mimport\u001b[0m \u001b[0mImage\u001b[0m\u001b[1;33m\u001b[0m\u001b[0m\n\u001b[0;32m      4\u001b[0m \u001b[1;32mfrom\u001b[0m \u001b[0msklearn\u001b[0m \u001b[1;32mimport\u001b[0m \u001b[0mtree\u001b[0m\u001b[1;33m\u001b[0m\u001b[0m\n\u001b[1;32m----> 5\u001b[1;33m \u001b[1;32mimport\u001b[0m \u001b[0mpydotplus\u001b[0m\u001b[1;33m\u001b[0m\u001b[0m\n\u001b[0m\u001b[0;32m      6\u001b[0m \u001b[1;32mfrom\u001b[0m \u001b[0msklearn\u001b[0m\u001b[1;33m.\u001b[0m\u001b[0mtree\u001b[0m \u001b[1;32mimport\u001b[0m \u001b[0mexport_graphviz\u001b[0m\u001b[1;33m\u001b[0m\u001b[0m\n\u001b[0;32m      7\u001b[0m \u001b[1;32mdef\u001b[0m \u001b[0mTreeShow\u001b[0m\u001b[1;33m(\u001b[0m\u001b[0mdtClass\u001b[0m\u001b[1;33m,\u001b[0m\u001b[0mirisDataSet\u001b[0m\u001b[1;33m)\u001b[0m\u001b[1;33m:\u001b[0m\u001b[1;33m\u001b[0m\u001b[0m\n",
      "\u001b[1;31mModuleNotFoundError\u001b[0m: No module named 'pydotplus'"
     ]
    }
   ],
   "source": [
    "# import os\n",
    "#  os.environ[\"PATH\"] += os.pathsep + 'C:/Program Files (x86)/Graphviz2.38/bin/'\n",
    "from IPython.display import Image  \n",
    "from sklearn import tree\n",
    "import pydotplus \n",
    "from sklearn.tree import export_graphviz\n",
    "def TreeShow(dtClass,irisDataSet):\n",
    "    dot_data = export_graphviz(dtClass, out_file=None)\n",
    "    graph = pydotplus.graph_from_dot_data(dot_data)\n",
    "    graph.write_pdf(\"tree.pdf\")\n",
    "    dot_data = export_graphviz(dtClass, out_file=None,\n",
    "                               feature_names=['pack_type','time_tranf','flow_tranf'\n",
    "                               ,'pack_change','contract','asso_pur','group_user'],   #对应特征的名字\n",
    "                              class_names=['loss','not loss'],    #对应类别的名字\n",
    "                               filled=True, rounded=True,\n",
    "                               special_characters=True)\n",
    "    graph = pydotplus.graph_from_dot_data(dot_data)\n",
    "    Image(graph.create_png())\n",
    "TreeShow(clf,df)"
   ]
  },
  {
   "cell_type": "code",
   "execution_count": null,
   "metadata": {},
   "outputs": [],
   "source": []
  }
 ],
 "metadata": {
  "kernelspec": {
   "display_name": "Python 3",
   "language": "python",
   "name": "python3"
  },
  "language_info": {
   "codemirror_mode": {
    "name": "ipython",
    "version": 3
   },
   "file_extension": ".py",
   "mimetype": "text/x-python",
   "name": "python",
   "nbconvert_exporter": "python",
   "pygments_lexer": "ipython3",
   "version": "3.6.4"
  }
 },
 "nbformat": 4,
 "nbformat_minor": 2
}
